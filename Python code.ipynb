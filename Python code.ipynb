{
  "nbformat": 4,
  "nbformat_minor": 0,
  "metadata": {
    "colab": {
      "name": "Untitled0.ipynb",
      "provenance": [],
      "collapsed_sections": [],
      "authorship_tag": "ABX9TyO4b3e7Gl/ZCrAcjgY12161",
      "include_colab_link": true
    },
    "kernelspec": {
      "name": "python3",
      "display_name": "Python 3"
    },
    "language_info": {
      "name": "python"
    }
  },
  "cells": [
    {
      "cell_type": "markdown",
      "metadata": {
        "id": "view-in-github",
        "colab_type": "text"
      },
      "source": [
        "<a href=\"https://colab.research.google.com/github/NPranaya7/Data_690_Pranaya/blob/main/Python%20code.ipynb\" target=\"_parent\"><img src=\"https://colab.research.google.com/assets/colab-badge.svg\" alt=\"Open In Colab\"/></a>"
      ]
    },
    {
      "cell_type": "markdown",
      "source": [
        ""
      ],
      "metadata": {
        "id": "PB41h2VpWk3E"
      }
    },
    {
      "cell_type": "markdown",
      "source": [
        "# Assignment 01 for Data 690\n",
        "- N Pranay Manikanta\n",
        "- MT50255"
      ],
      "metadata": {
        "id": "o4eItxjVWmRe"
      }
    },
    {
      "cell_type": "markdown",
      "source": [
        "## 1.Sample Code\n",
        "- Print \"Hello world\""
      ],
      "metadata": {
        "id": "oF11zfZgXRnv"
      }
    },
    {
      "cell_type": "code",
      "source": [
        "print(\"Hello world\")"
      ],
      "metadata": {
        "colab": {
          "base_uri": "https://localhost:8080/"
        },
        "id": "K-8NtOJ6Xn8D",
        "outputId": "c094a299-71c5-4c69-941c-7093226d7c86"
      },
      "execution_count": 2,
      "outputs": [
        {
          "output_type": "stream",
          "name": "stdout",
          "text": [
            "Hello world\n"
          ]
        }
      ]
    },
    {
      "cell_type": "markdown",
      "source": [
        "## 2.Perfom Multiplication, Addition, Subtraction."
      ],
      "metadata": {
        "id": "UjXtDNAWWkHr"
      }
    },
    {
      "cell_type": "code",
      "source": [
        "A = 1\n",
        "B = 2\n",
        "mul = A*B\n",
        "add = A+B\n",
        "sub = A-B\n",
        "print(mul , add, sub)"
      ],
      "metadata": {
        "colab": {
          "base_uri": "https://localhost:8080/"
        },
        "id": "T4_AqGwiX2wI",
        "outputId": "3f2d75a5-4db0-47b6-9ae3-cf37875efbe7"
      },
      "execution_count": 6,
      "outputs": [
        {
          "output_type": "stream",
          "name": "stdout",
          "text": [
            "2 3 -1\n"
          ]
        }
      ]
    },
    {
      "cell_type": "markdown",
      "source": [
        "## 3.Perfom Division"
      ],
      "metadata": {
        "id": "rnAxK-VPYRTP"
      }
    },
    {
      "cell_type": "code",
      "source": [
        "Div = A/B\n",
        "print(Div)"
      ],
      "metadata": {
        "colab": {
          "base_uri": "https://localhost:8080/"
        },
        "id": "gLtn9AqtYaJz",
        "outputId": "71b05df3-4f71-431a-ea0d-7b2b68753f33"
      },
      "execution_count": 8,
      "outputs": [
        {
          "output_type": "stream",
          "name": "stdout",
          "text": [
            "0.5\n"
          ]
        }
      ]
    }
  ]
}