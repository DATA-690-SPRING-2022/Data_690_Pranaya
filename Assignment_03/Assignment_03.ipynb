{
  "nbformat": 4,
  "nbformat_minor": 0,
  "metadata": {
    "colab": {
      "name": "Assignment_03.ipynb",
      "provenance": [],
      "collapsed_sections": [],
      "authorship_tag": "ABX9TyO5cIWrvrxjCQiLYyQSad31",
      "include_colab_link": true
    },
    "kernelspec": {
      "name": "python3",
      "display_name": "Python 3"
    },
    "language_info": {
      "name": "python"
    }
  },
  "cells": [
    {
      "cell_type": "markdown",
      "metadata": {
        "id": "view-in-github",
        "colab_type": "text"
      },
      "source": [
        "<a href=\"https://colab.research.google.com/github/NPranaya7/Data_690_Pranaya/blob/main/Assignment_03/Assignment_03.ipynb\" target=\"_parent\"><img src=\"https://colab.research.google.com/assets/colab-badge.svg\" alt=\"Open In Colab\"/></a>"
      ]
    },
    {
      "cell_type": "markdown",
      "source": [
        "## Assignment_03\n",
        "- Date:15/02/2022\n",
        "- MT50255\n",
        "- Narava Pranay manikanta"
      ],
      "metadata": {
        "id": "mlHMxr-uInpb"
      }
    },
    {
      "cell_type": "code",
      "source": [
        "import random"
      ],
      "metadata": {
        "id": "RMRu9oNsJQO6"
      },
      "execution_count": 31,
      "outputs": []
    },
    {
      "cell_type": "markdown",
      "source": [
        "## 1. Random numbers in 10 by 10 matrix"
      ],
      "metadata": {
        "id": "CfxeWHP_I-Lp"
      }
    },
    {
      "cell_type": "code",
      "execution_count": 32,
      "metadata": {
        "colab": {
          "base_uri": "https://localhost:8080/"
        },
        "id": "v5r9HpSVIgRU",
        "outputId": "2c394201-b477-430f-e5a7-739c048b85f0"
      },
      "outputs": [
        {
          "output_type": "stream",
          "name": "stdout",
          "text": [
            "4 9 5 5 9 2 0 0 6 1 \n",
            "8 1 5 6 0 9 0 3 5 1 \n",
            "3 4 7 6 8 5 8 5 5 0 \n",
            "4 4 1 5 7 0 7 6 5 8 \n",
            "4 7 3 7 2 0 2 6 5 3 \n",
            "2 8 8 2 7 2 4 3 8 4 \n",
            "6 8 1 2 7 1 8 3 4 5 \n",
            "8 8 5 1 2 7 0 8 7 9 \n",
            "7 5 8 6 8 0 1 6 6 3 \n",
            "7 0 4 1 5 9 0 2 9 0 \n"
          ]
        }
      ],
      "source": [
        "for i in range(10):\n",
        "    for j in range(10):\n",
        "        print(random.randint(0,9),end=\" \")\n",
        "    print()"
      ]
    },
    {
      "cell_type": "markdown",
      "source": [
        "## 2. Random numbers in 10 by 10 matrix but odd number are replaced with \" @ \""
      ],
      "metadata": {
        "id": "OgWz21TCJcI8"
      }
    },
    {
      "cell_type": "code",
      "source": [
        "for i in range(10):\n",
        "    for j in range(10):\n",
        "        a = random.randint(0,9)\n",
        "        odd=a\n",
        "        if a in [1,3,5,7,9]:\n",
        "          print(\"@\",end=\" \")\n",
        "        else:\n",
        "          print(a,end=\" \")\n",
        "    print()"
      ],
      "metadata": {
        "colab": {
          "base_uri": "https://localhost:8080/"
        },
        "id": "kapISAafJooU",
        "outputId": "0da1b8cb-064c-4d9f-e0d8-f4b3a0e78fb8"
      },
      "execution_count": 33,
      "outputs": [
        {
          "output_type": "stream",
          "name": "stdout",
          "text": [
            "@ @ 2 4 @ @ @ @ @ 4 \n",
            "@ 2 8 2 @ 0 0 8 @ @ \n",
            "@ @ 2 4 @ @ @ 8 @ @ \n",
            "8 @ 2 4 2 @ 6 @ 0 6 \n",
            "@ @ @ 6 8 2 @ 2 0 6 \n",
            "@ @ 0 @ 4 0 2 @ @ @ \n",
            "@ 8 2 @ @ @ @ 6 @ 4 \n",
            "@ 6 6 @ 4 @ @ @ @ @ \n",
            "6 6 4 4 2 @ @ @ 4 0 \n",
            "@ 2 @ 8 @ 4 0 @ @ 4 \n"
          ]
        }
      ]
    },
    {
      "cell_type": "markdown",
      "source": [
        "## 3.Random numbers in 10 by 10 matrix along with Calculated row value, separated by \" * \""
      ],
      "metadata": {
        "id": "pvPVSx8RJ4Yy"
      }
    },
    {
      "cell_type": "code",
      "source": [
        "sum = 0\n",
        "for i in range(10):\n",
        "    for j in range(10):\n",
        "        l = random.randint(0,9)\n",
        "        sum = sum + l\n",
        "        print(l,end=\" \")\n",
        "    print(\"*\", sum )\n",
        "    sum = 0"
      ],
      "metadata": {
        "colab": {
          "base_uri": "https://localhost:8080/"
        },
        "id": "GhisU4aLKPv6",
        "outputId": "8c73b0ce-4b45-49c2-a8c3-0cc32218e5ed"
      },
      "execution_count": 34,
      "outputs": [
        {
          "output_type": "stream",
          "name": "stdout",
          "text": [
            "1 3 9 1 4 2 5 7 4 4 * 40\n",
            "8 1 7 2 0 7 1 7 3 1 * 37\n",
            "1 2 5 3 5 0 0 4 7 4 * 31\n",
            "6 0 6 1 4 8 7 3 9 5 * 49\n",
            "4 4 4 7 7 8 7 5 8 2 * 56\n",
            "0 4 6 9 9 8 8 7 1 6 * 58\n",
            "7 0 9 1 4 4 5 5 1 9 * 45\n",
            "1 6 3 7 5 3 4 6 7 1 * 43\n",
            "0 3 9 3 2 3 3 2 4 0 * 29\n",
            "0 0 8 0 4 0 8 0 4 2 * 26\n"
          ]
        }
      ]
    },
    {
      "cell_type": "markdown",
      "source": [
        "## 4.Surround the matrix with asterisks (*)"
      ],
      "metadata": {
        "id": "sBeoeoF9MoHz"
      }
    },
    {
      "cell_type": "code",
      "source": [
        "print(\"***********************\")\n",
        "for i in range(10):\n",
        "    print(\"*\",end=\" \")\n",
        "    for j in range(10):\n",
        "        print(random.randint(0,9),end=\" \")\n",
        "    print(\"*\")\n",
        "print(\"***********************\")"
      ],
      "metadata": {
        "colab": {
          "base_uri": "https://localhost:8080/"
        },
        "id": "vdgnGie5M2ju",
        "outputId": "fc421bda-6a81-43e3-8a33-36227c286226"
      },
      "execution_count": 35,
      "outputs": [
        {
          "output_type": "stream",
          "name": "stdout",
          "text": [
            "***********************\n",
            "* 7 9 4 7 8 6 0 0 3 9 *\n",
            "* 8 8 5 7 9 9 6 1 9 5 *\n",
            "* 1 9 9 1 4 9 8 7 8 7 *\n",
            "* 0 0 5 8 1 3 2 9 4 7 *\n",
            "* 9 0 4 8 2 3 7 4 8 1 *\n",
            "* 1 7 5 5 4 8 6 8 1 9 *\n",
            "* 9 3 0 3 1 7 1 7 9 1 *\n",
            "* 6 3 5 7 0 2 1 8 9 3 *\n",
            "* 0 7 3 5 0 3 9 8 7 8 *\n",
            "* 2 5 5 9 5 9 6 8 4 8 *\n",
            "***********************\n"
          ]
        }
      ]
    },
    {
      "cell_type": "markdown",
      "source": [
        "## 5.Calculate and Print the total of each row and column"
      ],
      "metadata": {
        "id": "tPa85a_fOrox"
      }
    },
    {
      "cell_type": "code",
      "source": [
        "sum = 0\n",
        "a=[]\n",
        "for i in range(10):\n",
        "    for j in range(10):\n",
        "        l = random.randint(0,9)\n",
        "        a.append(l)\n",
        "        sum = sum + l\n",
        "        print(l,end=\"  \")\n",
        "    print(\"*\", sum )\n",
        "    sum = 0\n",
        "print(\"*  *  *  *  *  *  *  *  *  *\")\n",
        "#print(a)\n",
        "\n",
        "csum=0\n",
        "for i in range (10):\n",
        "    csum=a[i]+a[i+10]+a[i+20]+a[i+30]+a[i+40]+a[i+50]+a[i+60]+a[i+70]+a[i+80]+a[i+90]\n",
        "    print(csum,end=\" \")"
      ],
      "metadata": {
        "id": "vqkuvmAtO0rr",
        "colab": {
          "base_uri": "https://localhost:8080/"
        },
        "outputId": "0569bf62-5d97-450c-c232-e84ada192d1d"
      },
      "execution_count": 36,
      "outputs": [
        {
          "output_type": "stream",
          "name": "stdout",
          "text": [
            "4  3  4  1  8  5  3  8  7  7  * 50\n",
            "9  5  4  8  3  1  8  1  7  3  * 49\n",
            "0  6  0  1  9  3  2  5  4  8  * 38\n",
            "5  8  3  7  5  4  7  0  3  3  * 45\n",
            "6  4  3  1  8  7  0  6  7  9  * 51\n",
            "0  2  8  8  7  7  2  4  4  5  * 47\n",
            "1  6  4  5  3  2  4  9  0  1  * 35\n",
            "1  3  7  5  7  5  1  2  8  4  * 43\n",
            "7  7  4  6  4  7  0  1  3  5  * 44\n",
            "0  4  2  0  7  9  6  7  1  2  * 38\n",
            "*  *  *  *  *  *  *  *  *  *\n",
            "33 48 39 42 61 50 33 43 44 47 "
          ]
        }
      ]
    }
  ]
}