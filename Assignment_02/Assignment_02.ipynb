{
  "nbformat": 4,
  "nbformat_minor": 0,
  "metadata": {
    "colab": {
      "name": "Assignment_02.ipynb",
      "provenance": [],
      "collapsed_sections": [],
      "authorship_tag": "ABX9TyOiiu2LgBK0WtoDH1W2JuNo",
      "include_colab_link": true
    },
    "kernelspec": {
      "name": "python3",
      "display_name": "Python 3"
    },
    "language_info": {
      "name": "python"
    }
  },
  "cells": [
    {
      "cell_type": "markdown",
      "metadata": {
        "id": "view-in-github",
        "colab_type": "text"
      },
      "source": [
        "<a href=\"https://colab.research.google.com/github/NPranaya7/Data_690_Pranaya/blob/main/Assignment_02/Assignment_02.ipynb\" target=\"_parent\"><img src=\"https://colab.research.google.com/assets/colab-badge.svg\" alt=\"Open In Colab\"/></a>"
      ]
    },
    {
      "cell_type": "markdown",
      "source": [
        "# Assigment_02\n",
        "- Narava Pranay manikanta\n",
        "- MT50255"
      ],
      "metadata": {
        "id": "XdpNIp8n-Q-c"
      }
    },
    {
      "cell_type": "markdown",
      "source": [
        "## 1. Data entry"
      ],
      "metadata": {
        "id": "P6BUTmfi-iQo"
      }
    },
    {
      "cell_type": "code",
      "execution_count": 79,
      "metadata": {
        "colab": {
          "base_uri": "https://localhost:8080/"
        },
        "id": "Khq94b-R0VdE",
        "outputId": "8af68e42-c5c9-4af6-defa-50d03e9148c6"
      },
      "outputs": [
        {
          "name": "stdout",
          "output_type": "stream",
          "text": [
            "07\n",
            "25\n",
            "12\n",
            "47\n",
            "pranay\n",
            "**Only integers Allowed**\n",
            "tt\n",
            "**Only integers Allowed**\n",
            "56\n",
            "78\n",
            "23\n",
            "45\n",
            "7\n",
            "1\n"
          ]
        }
      ],
      "source": [
        "a=[]\n",
        "for i in range(0,30):\n",
        "  x=input()\n",
        "  try:\n",
        "    y=int(x)\n",
        "  except:\n",
        "    print(\"**Only integers Allowed**\")\n",
        "    continue\n",
        "  a.append(y)\n",
        "  l = len(a)\n",
        "  if l<10:\n",
        "    continue\n",
        "  else:\n",
        "    break"
      ]
    },
    {
      "cell_type": "markdown",
      "source": [
        "# 2.Data Display "
      ],
      "metadata": {
        "id": "Xel_WnYf-qa1"
      }
    },
    {
      "cell_type": "code",
      "source": [
        "print(\" lenght of the string is\")\n",
        "print(l)\n",
        "print(a)"
      ],
      "metadata": {
        "colab": {
          "base_uri": "https://localhost:8080/"
        },
        "id": "MeOf9J428mpn",
        "outputId": "deb05bbb-6a27-43f1-9344-e2862ff9dbf3"
      },
      "execution_count": 80,
      "outputs": [
        {
          "output_type": "stream",
          "name": "stdout",
          "text": [
            " lenght of the string is\n",
            "10\n",
            "[7, 25, 12, 47, 56, 78, 23, 45, 7, 1]\n"
          ]
        }
      ]
    },
    {
      "cell_type": "markdown",
      "source": [
        "# 3. Maximum element in the List"
      ],
      "metadata": {
        "id": "NEuNl-TD-xMI"
      }
    },
    {
      "cell_type": "code",
      "source": [
        "max = 0\n",
        "for i in range (0,10):\n",
        "  if a[i] > max:\n",
        "    max = a[i]\n",
        "  else:\n",
        "    continue\n",
        "print(max)"
      ],
      "metadata": {
        "colab": {
          "base_uri": "https://localhost:8080/"
        },
        "id": "nqoGMKuQ2Mrq",
        "outputId": "e8bdfd28-694d-4a18-f068-8ae9a2630898"
      },
      "execution_count": 81,
      "outputs": [
        {
          "output_type": "stream",
          "name": "stdout",
          "text": [
            "78\n"
          ]
        }
      ]
    },
    {
      "cell_type": "markdown",
      "source": [
        "# 4.Minimum Element in the List"
      ],
      "metadata": {
        "id": "T42ZhnBG-477"
      }
    },
    {
      "cell_type": "code",
      "source": [
        "min = a[1]\n",
        "for i in range (0 , 10):\n",
        "  if a[i] < min:\n",
        "    min = a[i]\n",
        "  else:\n",
        "    continue\n",
        "\n",
        "print(min)\n"
      ],
      "metadata": {
        "colab": {
          "base_uri": "https://localhost:8080/"
        },
        "id": "TtdryY-K5yxr",
        "outputId": "54b30a59-f169-4f2c-f1a1-8c2e7876ed14"
      },
      "execution_count": 82,
      "outputs": [
        {
          "output_type": "stream",
          "name": "stdout",
          "text": [
            "1\n"
          ]
        }
      ]
    },
    {
      "cell_type": "markdown",
      "source": [
        "# 5. Range"
      ],
      "metadata": {
        "id": "V_qAQZDQ_A2Y"
      }
    },
    {
      "cell_type": "code",
      "source": [
        "Range = max-min\n",
        "print(Range)"
      ],
      "metadata": {
        "colab": {
          "base_uri": "https://localhost:8080/"
        },
        "id": "E6zGkLrs_JJb",
        "outputId": "8a268002-df3f-44b3-db6e-bd8b9e0d6060"
      },
      "execution_count": 83,
      "outputs": [
        {
          "output_type": "stream",
          "name": "stdout",
          "text": [
            "77\n"
          ]
        }
      ]
    },
    {
      "cell_type": "markdown",
      "source": [
        "# 6.Mean"
      ],
      "metadata": {
        "id": "VwDGVVnX_JdD"
      }
    },
    {
      "cell_type": "code",
      "source": [
        "m = 0\n",
        "for i in range (0 , 10):\n",
        "  m = m + a[i]\n",
        "mean = m / l\n",
        "\n",
        "print(mean)\n"
      ],
      "metadata": {
        "colab": {
          "base_uri": "https://localhost:8080/"
        },
        "id": "iL4iuiO3_MtI",
        "outputId": "1357ff34-4f71-4436-e66c-e72052b18bae"
      },
      "execution_count": 84,
      "outputs": [
        {
          "output_type": "stream",
          "name": "stdout",
          "text": [
            "30.1\n"
          ]
        }
      ]
    },
    {
      "cell_type": "markdown",
      "source": [
        "# 7.Variance"
      ],
      "metadata": {
        "id": "ew43zC14_M9M"
      }
    },
    {
      "cell_type": "code",
      "source": [
        "sum = 0\n",
        "for i in range (0 , 10):\n",
        "  s = a[i] - mean\n",
        "  sd = s * s\n",
        "  sum = sum + sd\n",
        "var = sum / l \n",
        "print(var)\n"
      ],
      "metadata": {
        "colab": {
          "base_uri": "https://localhost:8080/"
        },
        "id": "QQzDZ6HY_WFa",
        "outputId": "be8f44a2-a8fa-48f9-adb8-0f885b9f4de5"
      },
      "execution_count": 85,
      "outputs": [
        {
          "output_type": "stream",
          "name": "stdout",
          "text": [
            "579.0899999999999\n"
          ]
        }
      ]
    },
    {
      "cell_type": "markdown",
      "source": [
        "# 8.Standard Deviation"
      ],
      "metadata": {
        "id": "RKkbcX_i_We3"
      }
    },
    {
      "cell_type": "code",
      "source": [
        "stnd = var**(1/2)\n",
        "print(stnd)"
      ],
      "metadata": {
        "colab": {
          "base_uri": "https://localhost:8080/"
        },
        "id": "4UnoJvBo_buY",
        "outputId": "2aa34e5a-a5d0-411a-8a81-5a4838a87874"
      },
      "execution_count": 86,
      "outputs": [
        {
          "output_type": "stream",
          "name": "stdout",
          "text": [
            "24.064288894542468\n"
          ]
        }
      ]
    }
  ]
}