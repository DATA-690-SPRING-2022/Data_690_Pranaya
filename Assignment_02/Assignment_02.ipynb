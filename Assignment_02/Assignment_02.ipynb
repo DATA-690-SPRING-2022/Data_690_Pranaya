{
  "nbformat": 4,
  "nbformat_minor": 0,
  "metadata": {
    "colab": {
      "name": "Assignment_02.ipynb",
      "provenance": [],
      "collapsed_sections": [],
      "authorship_tag": "ABX9TyPwI8RGEOwQJ5lnMxwwMMc4",
      "include_colab_link": true
    },
    "kernelspec": {
      "name": "python3",
      "display_name": "Python 3"
    },
    "language_info": {
      "name": "python"
    }
  },
  "cells": [
    {
      "cell_type": "markdown",
      "metadata": {
        "id": "view-in-github",
        "colab_type": "text"
      },
      "source": [
        "<a href=\"https://colab.research.google.com/github/NPranaya7/Data_690_Pranaya/blob/main/Assignment_02/Assignment_02.ipynb\" target=\"_parent\"><img src=\"https://colab.research.google.com/assets/colab-badge.svg\" alt=\"Open In Colab\"/></a>"
      ]
    },
    {
      "cell_type": "markdown",
      "source": [
        "# Assigment_02\n",
        "- Narava Pranay manikanta\n",
        "- MT50255"
      ],
      "metadata": {
        "id": "XdpNIp8n-Q-c"
      }
    },
    {
      "cell_type": "markdown",
      "source": [
        "## 1. Data entry"
      ],
      "metadata": {
        "id": "P6BUTmfi-iQo"
      }
    },
    {
      "cell_type": "code",
      "execution_count": 46,
      "metadata": {
        "colab": {
          "base_uri": "https://localhost:8080/"
        },
        "id": "Khq94b-R0VdE",
        "outputId": "2f11f23f-3ea2-4d13-d2f8-442d3941e0b1"
      },
      "outputs": [
        {
          "name": "stdout",
          "output_type": "stream",
          "text": [
            "1\n",
            "2\n",
            "3\n",
            "4\n",
            "5\n",
            "6\n",
            "7\n",
            "8\n",
            "8\n",
            "5\n"
          ]
        }
      ],
      "source": [
        "a=[]\n",
        "for i in range(0,30):\n",
        "  x=input()\n",
        "  try:\n",
        "    y=int(x)\n",
        "  except:\n",
        "    print(\"only integers\")\n",
        "    continue\n",
        "  a.append(y)\n",
        "  l = len(a)\n",
        "  if l<10:\n",
        "    continue\n",
        "  else:\n",
        "    break"
      ]
    },
    {
      "cell_type": "markdown",
      "source": [
        "# 2.Data Display "
      ],
      "metadata": {
        "id": "Xel_WnYf-qa1"
      }
    },
    {
      "cell_type": "code",
      "source": [
        "print(\" lenght of the string is\")\n",
        "print(l)\n",
        "print(a)"
      ],
      "metadata": {
        "colab": {
          "base_uri": "https://localhost:8080/"
        },
        "id": "MeOf9J428mpn",
        "outputId": "62c7b32a-a972-4a4a-b000-4880077ce058"
      },
      "execution_count": 47,
      "outputs": [
        {
          "output_type": "stream",
          "name": "stdout",
          "text": [
            " lenght of the string is\n",
            "10\n",
            "[1, 2, 3, 4, 5, 6, 7, 8, 8, 5]\n"
          ]
        }
      ]
    },
    {
      "cell_type": "markdown",
      "source": [
        "# 3. Maximum element in the List"
      ],
      "metadata": {
        "id": "NEuNl-TD-xMI"
      }
    },
    {
      "cell_type": "code",
      "source": [
        "max = 0\n",
        "for i in range (0,10):\n",
        "  if a[i] > max:\n",
        "    max = a[i]\n",
        "  else:\n",
        "    continue\n",
        "print(max)"
      ],
      "metadata": {
        "colab": {
          "base_uri": "https://localhost:8080/"
        },
        "id": "nqoGMKuQ2Mrq",
        "outputId": "ae6f58fa-0f26-4632-a9ba-1112efcb5f72"
      },
      "execution_count": 48,
      "outputs": [
        {
          "output_type": "stream",
          "name": "stdout",
          "text": [
            "8\n"
          ]
        }
      ]
    },
    {
      "cell_type": "markdown",
      "source": [
        "# 4.Minimum Element in the List"
      ],
      "metadata": {
        "id": "T42ZhnBG-477"
      }
    },
    {
      "cell_type": "code",
      "source": [
        "min = a[1]\n",
        "for i in range (0 , 10):\n",
        "  if a[i] < min:\n",
        "    min = a[i]\n",
        "  else:\n",
        "    continue\n",
        "\n",
        "print(min)\n"
      ],
      "metadata": {
        "colab": {
          "base_uri": "https://localhost:8080/"
        },
        "id": "TtdryY-K5yxr",
        "outputId": "92f0b720-31d3-415c-db54-6af9d0faa3c3"
      },
      "execution_count": 49,
      "outputs": [
        {
          "output_type": "stream",
          "name": "stdout",
          "text": [
            "1\n"
          ]
        }
      ]
    },
    {
      "cell_type": "markdown",
      "source": [
        "# 5. Range"
      ],
      "metadata": {
        "id": "V_qAQZDQ_A2Y"
      }
    },
    {
      "cell_type": "code",
      "source": [
        "Range = max-min\n",
        "print(Range)"
      ],
      "metadata": {
        "colab": {
          "base_uri": "https://localhost:8080/"
        },
        "id": "E6zGkLrs_JJb",
        "outputId": "035ac876-2ad9-45cb-87dd-bd070c665ce8"
      },
      "execution_count": 50,
      "outputs": [
        {
          "output_type": "stream",
          "name": "stdout",
          "text": [
            "7\n"
          ]
        }
      ]
    },
    {
      "cell_type": "markdown",
      "source": [
        "# 6.Mean"
      ],
      "metadata": {
        "id": "VwDGVVnX_JdD"
      }
    },
    {
      "cell_type": "code",
      "source": [
        "m = 0\n",
        "for i in range (0 , 10):\n",
        "  m = m + a[i]\n",
        "mean = m / l\n",
        "\n",
        "print(mean)\n"
      ],
      "metadata": {
        "colab": {
          "base_uri": "https://localhost:8080/"
        },
        "id": "iL4iuiO3_MtI",
        "outputId": "aee2fb3b-aea3-46b0-a2ce-542b6f75fb71"
      },
      "execution_count": 63,
      "outputs": [
        {
          "output_type": "stream",
          "name": "stdout",
          "text": [
            "4.9\n"
          ]
        }
      ]
    },
    {
      "cell_type": "markdown",
      "source": [
        "# 7.Variance"
      ],
      "metadata": {
        "id": "ew43zC14_M9M"
      }
    },
    {
      "cell_type": "code",
      "source": [
        "sum = 0\n",
        "for i in range (0 , 10):\n",
        "  s = a[i] - mean\n",
        "  sd = s * s\n",
        "  sum = sum + sd\n",
        "l1= l - 1\n",
        "var = sum / l1  \n",
        "print(var)\n"
      ],
      "metadata": {
        "colab": {
          "base_uri": "https://localhost:8080/"
        },
        "id": "QQzDZ6HY_WFa",
        "outputId": "2837aeba-cc12-4cdb-8c5c-87e2dcea0341"
      },
      "execution_count": 65,
      "outputs": [
        {
          "output_type": "stream",
          "name": "stdout",
          "text": [
            "5.877777777777778\n"
          ]
        }
      ]
    },
    {
      "cell_type": "markdown",
      "source": [
        "# 8.Standard Deviation"
      ],
      "metadata": {
        "id": "RKkbcX_i_We3"
      }
    },
    {
      "cell_type": "code",
      "source": [
        "stnd = var**(1/2)\n",
        "print(stnd)"
      ],
      "metadata": {
        "colab": {
          "base_uri": "https://localhost:8080/"
        },
        "id": "4UnoJvBo_buY",
        "outputId": "59242541-f7d7-4f8f-8f0b-c773fbfb6193"
      },
      "execution_count": 68,
      "outputs": [
        {
          "output_type": "stream",
          "name": "stdout",
          "text": [
            "2.4244128727957577\n"
          ]
        }
      ]
    }
  ]
}